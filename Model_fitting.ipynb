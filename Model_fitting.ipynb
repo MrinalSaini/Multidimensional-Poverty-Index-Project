{
  "cells": [
    {
      "cell_type": "markdown",
      "metadata": {
        "id": "LoAoy5nFHugJ"
      },
      "source": [
        "# Importing Libraries"
      ]
    },
    {
      "cell_type": "code",
      "execution_count": null,
      "metadata": {
        "colab": {
          "base_uri": "https://localhost:8080/"
        },
        "id": "na6ZKCHTIDWv",
        "outputId": "7b7b33bd-6b53-4d77-f0b8-ee205554dd23"
      },
      "outputs": [
        {
          "output_type": "stream",
          "name": "stdout",
          "text": [
            "Mounted at /content/drive\n"
          ]
        }
      ],
      "source": [
        "# Mounting the drive, where the data file is present\n",
        "from google.colab import drive\n",
        "drive.mount('/content/drive')"
      ]
    },
    {
      "cell_type": "code",
      "execution_count": null,
      "metadata": {
        "colab": {
          "base_uri": "https://localhost:8080/"
        },
        "id": "myQObZcXHugP",
        "outputId": "43ae2d9a-bf09-4665-e1da-e349e2f9bf53"
      },
      "outputs": [
        {
          "output_type": "stream",
          "name": "stdout",
          "text": [
            "Looking in indexes: https://pypi.org/simple, https://us-python.pkg.dev/colab-wheels/public/simple/\n",
            "Collecting clogistic\n",
            "  Downloading clogistic-0.1.1-py3-none-any.whl (11 kB)\n",
            "Requirement already satisfied: scipy in /usr/local/lib/python3.7/dist-packages (from clogistic) (1.4.1)\n",
            "Requirement already satisfied: numpy>=1.16 in /usr/local/lib/python3.7/dist-packages (from clogistic) (1.21.6)\n",
            "Requirement already satisfied: scikit-learn>=0.20.0 in /usr/local/lib/python3.7/dist-packages (from clogistic) (1.0.2)\n",
            "Requirement already satisfied: cvxpy>=1.0.31 in /usr/local/lib/python3.7/dist-packages (from clogistic) (1.0.31)\n",
            "Requirement already satisfied: scs>=1.1.3 in /usr/local/lib/python3.7/dist-packages (from cvxpy>=1.0.31->clogistic) (3.2.0)\n",
            "Requirement already satisfied: ecos>=2 in /usr/local/lib/python3.7/dist-packages (from cvxpy>=1.0.31->clogistic) (2.0.10)\n",
            "Requirement already satisfied: osqp>=0.4.1 in /usr/local/lib/python3.7/dist-packages (from cvxpy>=1.0.31->clogistic) (0.6.2.post0)\n",
            "Requirement already satisfied: multiprocess in /usr/local/lib/python3.7/dist-packages (from cvxpy>=1.0.31->clogistic) (0.70.13)\n",
            "Requirement already satisfied: qdldl in /usr/local/lib/python3.7/dist-packages (from osqp>=0.4.1->cvxpy>=1.0.31->clogistic) (0.1.5.post2)\n",
            "Requirement already satisfied: threadpoolctl>=2.0.0 in /usr/local/lib/python3.7/dist-packages (from scikit-learn>=0.20.0->clogistic) (3.1.0)\n",
            "Requirement already satisfied: joblib>=0.11 in /usr/local/lib/python3.7/dist-packages (from scikit-learn>=0.20.0->clogistic) (1.1.0)\n",
            "Requirement already satisfied: dill>=0.3.5.1 in /usr/local/lib/python3.7/dist-packages (from multiprocess->cvxpy>=1.0.31->clogistic) (0.3.5.1)\n",
            "Installing collected packages: clogistic\n",
            "Successfully installed clogistic-0.1.1\n"
          ]
        }
      ],
      "source": [
        "# Importing useful libraries/packages\n",
        "import numpy as np\n",
        "import matplotlib.pyplot as plt\n",
        "import seaborn as sns\n",
        "import pandas as pd\n",
        "from sklearn.model_selection import KFold, StratifiedKFold, cross_val_score\n",
        "from sklearn.metrics import accuracy_score, confusion_matrix, log_loss, classification_report, precision_score\n",
        "from google.colab import auth\n",
        "import gspread\n",
        "from google.auth import default\n",
        "from scipy.optimize import Bounds\n",
        "!pip install clogistic\n",
        "from clogistic import LogisticRegression as cLogisticRegression\n",
        "import warnings\n",
        "warnings.filterwarnings(\"ignore\")"
      ]
    },
    {
      "cell_type": "markdown",
      "metadata": {
        "id": "FlEPFVzlHugV"
      },
      "source": [
        "# Reading Data"
      ]
    },
    {
      "cell_type": "code",
      "execution_count": null,
      "metadata": {
        "id": "rfPi7F3WHugY"
      },
      "outputs": [],
      "source": [
        "# Authenticating Google Account\n",
        "auth.authenticate_user()\n",
        "creds, _ = default()\n",
        "\n",
        "gc = gspread.authorize(creds)"
      ]
    },
    {
      "cell_type": "code",
      "execution_count": null,
      "metadata": {
        "id": "MMMzMynWcrlB"
      },
      "outputs": [],
      "source": [
        "# Giving the path of the excel file\n",
        "worksheet = gc.open('All_Groups').get_worksheet(4)\n",
        "rows = worksheet.get_all_records()\n",
        "data = pd.DataFrame.from_records(rows)"
      ]
    },
    {
      "cell_type": "code",
      "execution_count": null,
      "metadata": {
        "colab": {
          "base_uri": "https://localhost:8080/"
        },
        "id": "sa8mTJkKHugb",
        "outputId": "3d67bebe-bcd2-41a4-ef5c-7370d4683754"
      },
      "outputs": [
        {
          "output_type": "stream",
          "name": "stdout",
          "text": [
            "<class 'pandas.core.frame.DataFrame'>\n",
            "RangeIndex: 134 entries, 0 to 133\n",
            "Data columns (total 17 columns):\n",
            " #   Column                        Non-Null Count  Dtype \n",
            "---  ------                        --------------  ----- \n",
            " 0   Household ID                  134 non-null    object\n",
            " 1   Household size                134 non-null    int64 \n",
            " 2   Nutrition                     134 non-null    int64 \n",
            " 3   Child & Adolescent Mortality  134 non-null    int64 \n",
            " 4   Antenatal Care                134 non-null    int64 \n",
            " 5   Years of schooling            134 non-null    int64 \n",
            " 6   school attendance             134 non-null    int64 \n",
            " 7   cooking fuel                  134 non-null    int64 \n",
            " 8   sanitation                    134 non-null    int64 \n",
            " 9   drinking water                134 non-null    int64 \n",
            " 10  electricity                   134 non-null    int64 \n",
            " 11  housing                       134 non-null    int64 \n",
            " 12  assets                        134 non-null    int64 \n",
            " 13  bank account                  134 non-null    int64 \n",
            " 14  disease                       134 non-null    int64 \n",
            " 15  poverty status                134 non-null    int64 \n",
            " 16  NITI aayog poverty status     134 non-null    int64 \n",
            "dtypes: int64(16), object(1)\n",
            "memory usage: 17.9+ KB\n"
          ]
        }
      ],
      "source": [
        "# Columns in the data and their counts\n",
        "data.info()"
      ]
    },
    {
      "cell_type": "code",
      "execution_count": null,
      "metadata": {
        "id": "s49nzCrJjH9_"
      },
      "outputs": [],
      "source": [
        "# Separating the poor status vectors and the independent variables\n",
        "Y = data['poverty status']\n",
        "Y_0 = data['NITI aayog poverty status']\n",
        "X = data.drop(['Household ID', 'Household size', 'poverty status', 'NITI aayog poverty status'], axis=1)"
      ]
    },
    {
      "cell_type": "markdown",
      "metadata": {
        "id": "0kcOhlez8fSw"
      },
      "source": [
        "# Cohen's Kappa - NITI Aayog V/S Judgement"
      ]
    },
    {
      "cell_type": "code",
      "execution_count": null,
      "metadata": {
        "id": "tQesxiJrJQeh"
      },
      "outputs": [],
      "source": [
        "# calculating cohen's kappa for 2x2 contingency table\n",
        "def cohen_kappa(cm):\n",
        "    return np.round(2*(cm[0,0]*cm[1,1] - cm[0,1]*cm[1,0])/((cm[0,0]+cm[0,1])*(cm[0,1]+cm[1,1])+(cm[0,0]+cm[1,0])*(cm[1,0]+cm[1,1])), 3)"
      ]
    },
    {
      "cell_type": "code",
      "execution_count": null,
      "metadata": {
        "colab": {
          "base_uri": "https://localhost:8080/",
          "height": 314
        },
        "id": "nPxveSvg8hhm",
        "outputId": "82be7b43-f75d-404d-e6b5-86ae2a70e7ac"
      },
      "outputs": [
        {
          "output_type": "display_data",
          "data": {
            "text/plain": [
              "<Figure size 432x288 with 1 Axes>"
            ],
            "image/png": "[encoded data removed]"
          },
          "metadata": {
            "needs_background": "light"
          }
        },
        {
          "output_type": "stream",
          "name": "stdout",
          "text": [
            "\n",
            "Cohen's Kappa = 0.437\n"
          ]
        }
      ],
      "source": [
        "# Cohen's Kappa between the judgement Vector and NITI aayog classification vector\n",
        "cm0 = confusion_matrix(Y_0, Y)\n",
        "sns.heatmap(cm0, cbar=False, annot=True, cmap=\"copper\")\n",
        "plt.xlabel('Predicted poverty status')\n",
        "plt.ylabel('NITI aayog poverty status')\n",
        "plt.show()\n",
        "\n",
        "print(\"\\nCohen's Kappa =\", cohen_kappa(cm0))"
      ]
    },
    {
      "cell_type": "markdown",
      "metadata": {
        "id": "46EJ7EFOHugd"
      },
      "source": [
        "# Logistic Regression"
      ]
    },
    {
      "cell_type": "markdown",
      "metadata": {
        "id": "z0xRyFv250PK"
      },
      "source": [
        "### Setup"
      ]
    },
    {
      "cell_type": "code",
      "execution_count": null,
      "metadata": {
        "id": "Xm5fvvXRWGJ-"
      },
      "outputs": [],
      "source": [
        "# Choosing the test and train split with highest accuracy\n",
        "def high_accuracy_split(scores, X, Y):\n",
        "    k = np.argmax(scores)\n",
        "    i = -1\n",
        "    for train_index, test_index in cv.split(X):\n",
        "        i = i+1\n",
        "        if i==k:\n",
        "            X_train, X_test = X.iloc[train_index,:], X.iloc[test_index,:]\n",
        "            Y_train, Y_test = Y.iloc[train_index], Y.iloc[test_index]\n",
        "          \n",
        "    return [X_train, X_test, Y_train, Y_test]"
      ]
    },
    {
      "cell_type": "code",
      "execution_count": null,
      "metadata": {
        "id": "KaeRc-EKY_1b"
      },
      "outputs": [],
      "source": [
        "# Defining the non negative constraints on beta\n",
        "def get_bounds(X):\n",
        "    return Bounds(np.append(np.repeat(0.0, X.shape[1]), [-np.inf]), np.repeat(np.inf, X.shape[1]+1))"
      ]
    },
    {
      "cell_type": "code",
      "execution_count": null,
      "metadata": {
        "id": "eYdYv_ey2zfU"
      },
      "outputs": [],
      "source": [
        "# Fitting the Logistic Model and getting the beta with highest cross validation accuracy\n",
        "def get_beta(X, Y):\n",
        "    bounds = get_bounds(X)\n",
        "    scores = cross_val_score(model, X, Y, fit_params={'bounds':bounds}, scoring='accuracy', cv=cv, n_jobs=-1)  # fitting model\n",
        "    split = high_accuracy_split(scores, X, Y)    # getting the highest accuracy split\n",
        "    model.fit(split[0], split[2], bounds=bounds)\n",
        "    beta = model.coef_[0]/sum(model.coef_[0])   # diving by the sum of beta to scale down the coefficients\n",
        "    threshold = -model.intercept_[0]/sum(model.coef_[0])\n",
        "    log_likelihood = sum(Y*(model.intercept_[0] + np.matmul(X, model.coef_[0]))) - sum(np.log(1 + np.exp((model.intercept_[0] + np.matmul(X, model.coef_[0])))))\n",
        "    cm = confusion_matrix(Y, model.predict(X))\n",
        "    # class_rep = classification_report(Y, model.predict(X))\n",
        "    accuracy = (cm[0,0]+cm[1,1])/(cm[0,0]+cm[0,1]+cm[1,0]+cm[1,1])\n",
        "    precision = cm[0,0]/(cm[0,0]+cm[1,0])\n",
        "    return beta, threshold, cm, log_likelihood, precision, accuracy"
      ]
    },
    {
      "cell_type": "code",
      "execution_count": null,
      "metadata": {
        "id": "c5URw6IgHugf"
      },
      "outputs": [],
      "source": [
        "# Setting up logistic regression\n",
        "cv = KFold(n_splits=5, random_state=0, shuffle=True)\n",
        "model = cLogisticRegression(penalty='none')"
      ]
    },
    {
      "cell_type": "markdown",
      "metadata": {
        "id": "0a_AQiLEcUky"
      },
      "source": [
        "### Original Data - Without disease"
      ]
    },
    {
      "cell_type": "code",
      "execution_count": null,
      "metadata": {
        "colab": {
          "base_uri": "https://localhost:8080/"
        },
        "id": "qDVpk-kZHugm",
        "outputId": "188a74e6-d2bf-457b-e074-563599764672"
      },
      "outputs": [
        {
          "output_type": "stream",
          "name": "stdout",
          "text": [
            "                       Variables  Beta_(scaled)\n",
            "0                      Nutrition         0.0276\n",
            "1   Child & Adolescent Mortality         0.0512\n",
            "2                 Antenatal Care         0.0391\n",
            "3             Years of schooling         0.0000\n",
            "4              school attendance         0.0206\n",
            "5                   cooking fuel         0.0799\n",
            "6                    sanitation          0.0308\n",
            "7                 drinking water         0.0000\n",
            "8                    electricity         0.4703\n",
            "9                        housing         0.0583\n",
            "10                        assets         0.1208\n",
            "11                  bank account         0.1015\n",
            "\n",
            "Threshold_(scaled) = 0.13275884989369002\n"
          ]
        }
      ],
      "source": [
        "beta1, threshold1, cm1, log_l1, prec1, accu1 = get_beta(X.drop(['disease'], axis=1), Y)\n",
        "print(pd.DataFrame(data={'Variables':X.drop(['disease'], axis=1).columns, 'Beta_(scaled)':np.around(beta1, 4)}))\n",
        "print('\\nThreshold_(scaled) =', threshold1)"
      ]
    },
    {
      "cell_type": "code",
      "execution_count": null,
      "metadata": {
        "colab": {
          "base_uri": "https://localhost:8080/",
          "height": 385
        },
        "id": "TP8mooj_o1vA",
        "outputId": "aa38d36e-4191-49d3-ddc8-af3261435f6c"
      },
      "outputs": [
        {
          "output_type": "display_data",
          "data": {
            "text/plain": [
              "<Figure size 432x288 with 1 Axes>"
            ],
            "image/png": "[encoded data removed]"
          },
          "metadata": {
            "needs_background": "light"
          }
        },
        {
          "output_type": "stream",
          "name": "stdout",
          "text": [
            "\n",
            "Cohen's Kappa = 0.715\n",
            "\n",
            "Accuracy = 0.86\n",
            "\n",
            "Precision = 0.88\n"
          ]
        }
      ],
      "source": [
        "sns.heatmap(cm1, cbar=False, annot=True, cmap=\"copper\")\n",
        "plt.xlabel('Predicted poverty status')\n",
        "plt.ylabel('Y from Logistic Model')\n",
        "plt.show()\n",
        "\n",
        "print(\"\\nCohen's Kappa =\", cohen_kappa(cm1))\n",
        "print(\"\\nAccuracy =\", np.round(accu1, 2))\n",
        "print('\\nPrecision =', np.round(prec1, 2))"
      ]
    },
    {
      "cell_type": "markdown",
      "metadata": {
        "id": "gtfpctvWckSp"
      },
      "source": [
        "### Original Data - With disease"
      ]
    },
    {
      "cell_type": "code",
      "execution_count": null,
      "metadata": {
        "colab": {
          "base_uri": "https://localhost:8080/"
        },
        "id": "vitqcEDISqV0",
        "outputId": "514cf0fd-d10c-4901-8fcc-0a1d38460cff"
      },
      "outputs": [
        {
          "output_type": "stream",
          "name": "stdout",
          "text": [
            "                       Variables  Beta_(scaled)\n",
            "0                      Nutrition         0.0343\n",
            "1   Child & Adolescent Mortality         0.0633\n",
            "2                 Antenatal Care         0.0134\n",
            "3             Years of schooling         0.0320\n",
            "4              school attendance         0.0000\n",
            "5                   cooking fuel         0.1215\n",
            "6                    sanitation          0.0175\n",
            "7                 drinking water         0.0000\n",
            "8                    electricity         0.4083\n",
            "9                        housing         0.0467\n",
            "10                        assets         0.1208\n",
            "11                  bank account         0.1341\n",
            "12                       disease         0.0082\n",
            "\n",
            "Threshold_(scaled) = 0.166855319099565\n"
          ]
        }
      ],
      "source": [
        "beta2, threshold2, cm2, log_l2, prec2, accu2 = get_beta(X, Y)\n",
        "print(pd.DataFrame(data={'Variables':X.columns, 'Beta_(scaled)':np.around(beta2, 4)}))\n",
        "print('\\nThreshold_(scaled) =', threshold2)"
      ]
    },
    {
      "cell_type": "code",
      "execution_count": null,
      "metadata": {
        "colab": {
          "base_uri": "https://localhost:8080/",
          "height": 385
        },
        "id": "yhDcM5mPo0qU",
        "outputId": "df6c6fc4-21d8-4900-cf34-5f24c843e4f9"
      },
      "outputs": [
        {
          "output_type": "display_data",
          "data": {
            "text/plain": [
              "<Figure size 432x288 with 1 Axes>"
            ],
            "image/png": "[encoded data removed]"
          },
          "metadata": {
            "needs_background": "light"
          }
        },
        {
          "output_type": "stream",
          "name": "stdout",
          "text": [
            "\n",
            "Cohen's Kappa = 0.669\n",
            "\n",
            "Accuracy = 0.84\n",
            "\n",
            "Precision = 0.85\n"
          ]
        }
      ],
      "source": [
        "sns.heatmap(cm2, cbar=False, annot=True, cmap=\"copper\")\n",
        "plt.xlabel('Predicted poverty status')\n",
        "plt.ylabel('Y from Logistic Model')\n",
        "plt.show()\n",
        "\n",
        "print(\"\\nCohen's Kappa =\", cohen_kappa(cm2))\n",
        "print(\"\\nAccuracy =\", np.round(accu2, 2))\n",
        "print('\\nPrecision =', np.round(prec2, 2))"
      ]
    },
    {
      "cell_type": "markdown",
      "metadata": {
        "id": "05DW6OR0dAjr"
      },
      "source": [
        "### Merging electricity and assests"
      ]
    },
    {
      "cell_type": "code",
      "execution_count": null,
      "metadata": {
        "colab": {
          "base_uri": "https://localhost:8080/"
        },
        "id": "kro0Re4cdd6a",
        "outputId": "1d1286aa-4c2c-42c7-e32d-940161fc8feb"
      },
      "outputs": [
        {
          "output_type": "execute_result",
          "data": {
            "text/plain": [
              "Index(['Nutrition', 'Child & Adolescent Mortality', 'Antenatal Care',\n",
              "       'Years of schooling', 'school attendance', 'cooking fuel',\n",
              "       'sanitation ', 'drinking water', 'electricity', 'housing', 'assets',\n",
              "       'bank account', 'disease'],\n",
              "      dtype='object')"
            ]
          },
          "metadata": {},
          "execution_count": 18
        }
      ],
      "source": [
        "# Listing all the columns of X\n",
        "X.columns"
      ]
    },
    {
      "cell_type": "code",
      "execution_count": null,
      "metadata": {
        "id": "ueFnyagWdqtM"
      },
      "outputs": [],
      "source": [
        "# Merging Electricity and Assests using \"OR\" function\n",
        "X['electricity or assets'] = np.sign(X.iloc[:,8]+X.iloc[:,10])\n",
        "X = X.drop(['electricity', 'assets'], axis=1)"
      ]
    },
    {
      "cell_type": "code",
      "execution_count": null,
      "metadata": {
        "colab": {
          "base_uri": "https://localhost:8080/"
        },
        "id": "2aT3T7xhztLk",
        "outputId": "d643d69c-aea3-4f79-f43e-db9dbbbe9bf9"
      },
      "outputs": [
        {
          "output_type": "execute_result",
          "data": {
            "text/plain": [
              "Index(['Nutrition', 'Child & Adolescent Mortality', 'Antenatal Care',\n",
              "       'Years of schooling', 'school attendance', 'cooking fuel',\n",
              "       'sanitation ', 'drinking water', 'housing', 'bank account', 'disease',\n",
              "       'electricity or assets'],\n",
              "      dtype='object')"
            ]
          },
          "metadata": {},
          "execution_count": 20
        }
      ],
      "source": [
        "# New columns of X\n",
        "X.columns"
      ]
    },
    {
      "cell_type": "markdown",
      "metadata": {
        "id": "ZS9-Iw5gzh9d"
      },
      "source": [
        "### Merged Data - Without disease"
      ]
    },
    {
      "cell_type": "code",
      "execution_count": null,
      "metadata": {
        "colab": {
          "base_uri": "https://localhost:8080/"
        },
        "id": "D6E4FuzMf6kK",
        "outputId": "881f3ad4-6c2a-4efc-9cf9-e322b1e78936"
      },
      "outputs": [
        {
          "output_type": "stream",
          "name": "stdout",
          "text": [
            "                       Variables  Beta_(scaled)\n",
            "0                      Nutrition         0.0520\n",
            "1   Child & Adolescent Mortality         0.0965\n",
            "2                 Antenatal Care         0.0740\n",
            "3             Years of schooling         0.0000\n",
            "4              school attendance         0.0386\n",
            "5                   cooking fuel         0.1506\n",
            "6                    sanitation          0.0583\n",
            "7                 drinking water         0.0000\n",
            "8                        housing         0.1099\n",
            "9                   bank account         0.1914\n",
            "10         electricity or assets         0.2287\n",
            "\n",
            "Threshold_(scaled) = 0.2503862984281999\n"
          ]
        }
      ],
      "source": [
        "beta3, threshold3, cm3, log_l3, prec3, accu3 = get_beta(X.drop(['disease'], axis=1), Y)\n",
        "print(pd.DataFrame(data={'Variables':X.drop(['disease'], axis=1).columns, 'Beta_(scaled)':np.around(beta3, 4)}))\n",
        "print('\\nThreshold_(scaled) =', threshold3)"
      ]
    },
    {
      "cell_type": "code",
      "execution_count": null,
      "metadata": {
        "colab": {
          "base_uri": "https://localhost:8080/",
          "height": 385
        },
        "id": "IEitF5tSoCGY",
        "outputId": "cc322118-37ba-4fb5-8eee-605f11fd97ef"
      },
      "outputs": [
        {
          "output_type": "display_data",
          "data": {
            "text/plain": [
              "<Figure size 432x288 with 1 Axes>"
            ],
            "image/png": "[encoded data removed]"
          },
          "metadata": {
            "needs_background": "light"
          }
        },
        {
          "output_type": "stream",
          "name": "stdout",
          "text": [
            "\n",
            "Cohen's Kappa = 0.715\n",
            "\n",
            "Accuracy = 0.86\n",
            "\n",
            "Precision = 0.88\n"
          ]
        }
      ],
      "source": [
        "sns.heatmap(cm3, cbar=False, annot=True, cmap=\"copper\")\n",
        "plt.xlabel('Predicted poverty status')\n",
        "plt.ylabel('Y from Logistic Model')\n",
        "plt.show()\n",
        "\n",
        "print(\"\\nCohen's Kappa =\", cohen_kappa(cm3))\n",
        "print(\"\\nAccuracy =\", np.round(accu3, 2))\n",
        "print('\\nPrecision =', np.round(prec3, 2))"
      ]
    },
    {
      "cell_type": "markdown",
      "metadata": {
        "id": "GgGbze4TgQH4"
      },
      "source": [
        "### Merged Data - With disease"
      ]
    },
    {
      "cell_type": "code",
      "execution_count": null,
      "metadata": {
        "colab": {
          "base_uri": "https://localhost:8080/"
        },
        "id": "YMjOznaJgwYY",
        "outputId": "b57f6697-861a-4467-c3f9-b0956fcc58eb"
      },
      "outputs": [
        {
          "output_type": "stream",
          "name": "stdout",
          "text": [
            "                       Variables  Beta_(scaled)\n",
            "0                      Nutrition         0.0577\n",
            "1   Child & Adolescent Mortality         0.1068\n",
            "2                 Antenatal Care         0.0230\n",
            "3             Years of schooling         0.0537\n",
            "4              school attendance         0.0000\n",
            "5                   cooking fuel         0.2052\n",
            "6                    sanitation          0.0296\n",
            "7                 drinking water         0.0000\n",
            "8                        housing         0.0787\n",
            "9                   bank account         0.2264\n",
            "10                       disease         0.0139\n",
            "11         electricity or assets         0.2049\n",
            "\n",
            "Threshold_(scaled) = 0.28165859867930565\n"
          ]
        }
      ],
      "source": [
        "beta4, threshold4, cm4, log_l4, prec4, accu4 = get_beta(X, Y)\n",
        "print(pd.DataFrame(data={'Variables':X.columns, 'Beta_(scaled)':np.around(beta4, 4)}))\n",
        "print('\\nThreshold_(scaled) =', threshold4)"
      ]
    },
    {
      "cell_type": "code",
      "execution_count": null,
      "metadata": {
        "colab": {
          "base_uri": "https://localhost:8080/",
          "height": 385
        },
        "id": "OsudtD0_oyeZ",
        "outputId": "516887ea-205f-4743-fad6-0abeb66e9e47"
      },
      "outputs": [
        {
          "output_type": "display_data",
          "data": {
            "text/plain": [
              "<Figure size 432x288 with 1 Axes>"
            ],
            "image/png": "[encoded data removed]"
          },
          "metadata": {
            "needs_background": "light"
          }
        },
        {
          "output_type": "stream",
          "name": "stdout",
          "text": [
            "\n",
            "Cohen's Kappa = 0.669\n",
            "\n",
            "Accuracy = 0.84\n",
            "\n",
            "Precision = 0.85\n"
          ]
        }
      ],
      "source": [
        "sns.heatmap(cm4, cbar=False, annot=True, cmap=\"copper\")\n",
        "plt.xlabel('Predicted poverty status')\n",
        "plt.ylabel('Y from Logistic Model')\n",
        "plt.show()\n",
        "\n",
        "print(\"\\nCohen's Kappa =\", cohen_kappa(cm4))\n",
        "print(\"\\nAccuracy =\", np.round(accu4, 2))\n",
        "print('\\nPrecision =', np.round(prec4, 2))"
      ]
    }
  ],
  "metadata": {
    "colab": {
      "provenance": []
    },
    "kernelspec": {
      "display_name": "Python 3",
      "language": "python",
      "name": "python3"
    },
    "language_info": {
      "codemirror_mode": {
        "name": "ipython",
        "version": 3
      },
      "file_extension": ".py",
      "mimetype": "text/x-python",
      "name": "python",
      "nbconvert_exporter": "python",
      "pygments_lexer": "ipython3",
      "version": "3.7.9"
    }
  },
  "nbformat": 4,
  "nbformat_minor": 0
}